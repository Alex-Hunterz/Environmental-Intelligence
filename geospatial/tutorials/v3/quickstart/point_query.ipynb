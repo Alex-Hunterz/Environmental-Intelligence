{
  "cells": [
    {
      "cell_type": "markdown",
      "metadata": {
        "id": "view-in-github",
        "colab_type": "text"
      },
      "source": [
        "<a href=\"https://colab.research.google.com/github/Alex-Hunterz/Environmental-Intelligence/blob/main/geospatial/tutorials/v3/quickstart/point_query.ipynb\" target=\"_parent\"><img src=\"https://colab.research.google.com/assets/colab-badge.svg\" alt=\"Open In Colab\"/></a>"
      ]
    },
    {
      "cell_type": "markdown",
      "metadata": {
        "id": "r_8DxSiFI8UL"
      },
      "source": [
        "# Point query\n",
        "## Your first query\n",
        "The most basic Geospatial APIs query is the *point query*, we are going to get you started with the Geospatial APIs SDK by using it to do a point query.\n",
        "\n",
        "We will request NDVI data from the Sentinel 2 l2a satellite. The *Normalized Difference Vegetation Index*, [NDVI](https://en.wikipedia.org/wiki/Normalized_difference_vegetation_index) for short, indicates the amount of vegetation present at the location and time in question. It is calculated from both the near infrared and red bands, takes values between 0 and 1 and has many uses across a wide range of remote-sensing applications. The Sentinel 2 l2a satellite produces a raster image of a particular location approximately once every 5 days."
      ]
    },
    {
      "cell_type": "code",
      "execution_count": null,
      "metadata": {
        "id": "WzTkII_-I8UZ"
      },
      "outputs": [],
      "source": [
        "%pip install configparser\n",
        "%pip install ibmpairs"
      ]
    },
    {
      "cell_type": "code",
      "execution_count": 1,
      "metadata": {
        "id": "VxzrDRW6I8Ud",
        "outputId": "85d5963a-2b42-4f32-a05a-d7df4352165c",
        "colab": {
          "base_uri": "https://localhost:8080/",
          "height": 383
        }
      },
      "outputs": [
        {
          "output_type": "error",
          "ename": "ModuleNotFoundError",
          "evalue": "No module named 'ibmpairs'",
          "traceback": [
            "\u001b[0;31m---------------------------------------------------------------------------\u001b[0m",
            "\u001b[0;31mModuleNotFoundError\u001b[0m                       Traceback (most recent call last)",
            "\u001b[0;32m<ipython-input-1-7d87971d96af>\u001b[0m in \u001b[0;36m<cell line: 0>\u001b[0;34m()\u001b[0m\n\u001b[1;32m      1\u001b[0m \u001b[0;32mimport\u001b[0m \u001b[0mos\u001b[0m\u001b[0;34m\u001b[0m\u001b[0;34m\u001b[0m\u001b[0m\n\u001b[1;32m      2\u001b[0m \u001b[0;32mimport\u001b[0m \u001b[0mpandas\u001b[0m \u001b[0;32mas\u001b[0m \u001b[0mpd\u001b[0m\u001b[0;34m\u001b[0m\u001b[0;34m\u001b[0m\u001b[0m\n\u001b[0;32m----> 3\u001b[0;31m \u001b[0;32mimport\u001b[0m \u001b[0mibmpairs\u001b[0m\u001b[0;34m.\u001b[0m\u001b[0mauthentication\u001b[0m \u001b[0;32mas\u001b[0m \u001b[0mauthentication\u001b[0m\u001b[0;34m\u001b[0m\u001b[0;34m\u001b[0m\u001b[0m\n\u001b[0m\u001b[1;32m      4\u001b[0m \u001b[0;32mimport\u001b[0m \u001b[0mibmpairs\u001b[0m\u001b[0;34m.\u001b[0m\u001b[0mclient\u001b[0m \u001b[0;32mas\u001b[0m \u001b[0mclient\u001b[0m\u001b[0;34m\u001b[0m\u001b[0;34m\u001b[0m\u001b[0m\n\u001b[1;32m      5\u001b[0m \u001b[0;32mimport\u001b[0m \u001b[0mibmpairs\u001b[0m\u001b[0;34m.\u001b[0m\u001b[0mquery\u001b[0m \u001b[0;32mas\u001b[0m \u001b[0mquery\u001b[0m\u001b[0;34m\u001b[0m\u001b[0;34m\u001b[0m\u001b[0m\n",
            "\u001b[0;31mModuleNotFoundError\u001b[0m: No module named 'ibmpairs'",
            "",
            "\u001b[0;31m---------------------------------------------------------------------------\u001b[0;32m\nNOTE: If your import is failing due to a missing package, you can\nmanually install dependencies using either !pip or !apt.\n\nTo view examples of installing some common dependencies, click the\n\"Open Examples\" button below.\n\u001b[0;31m---------------------------------------------------------------------------\u001b[0m\n"
          ],
          "errorDetails": {
            "actions": [
              {
                "action": "open_url",
                "actionText": "Open Examples",
                "url": "/notebooks/snippets/importing_libraries.ipynb"
              }
            ]
          }
        }
      ],
      "source": [
        "import os\n",
        "import pandas as pd\n",
        "import ibmpairs.authentication as authentication\n",
        "import ibmpairs.client as client\n",
        "import ibmpairs.query as query\n",
        "\n",
        "import configparser\n",
        "\n",
        "config = configparser.RawConfigParser()\n",
        "config.read('../../../auth/secrets.ini')\n",
        "# Best practice is not to include secrets in source code so we read\n",
        "# an api key, tenant id and org id from a secrets.ini file.\n",
        "# You could set the credentials in-line here but we don't\n",
        "# recommend it for security reasons.\n",
        "\n",
        "EI_API_KEY    = config.get('EI', 'api.api_key')\n",
        "EI_TENANT_ID  = config.get('EI', 'api.tenant_id')\n",
        "EI_ORG_ID     = config.get('EI', 'api.org_id')\n",
        "\n",
        "# Authenticate and get a client object.\n",
        "ei_client = client.get_client(api_key   = EI_API_KEY,\n",
        "                               tenant_id = EI_TENANT_ID,\n",
        "                               org_id    = EI_ORG_ID)\n",
        "\n",
        "# The Geospatial APIs query expressed as a JSON structure\n",
        "query_json = {\n",
        "      \"layers\" : [\n",
        "          {\"type\" : \"raster\", \"id\" : \"49464\"}\n",
        "      ],\n",
        "      \"spatial\" : {\n",
        "          \"type\" : \"point\",\n",
        "          \"coordinates\" : [\"50.92163290389907\", \"-1.4837586747526244\"]\n",
        "      },\n",
        "      \"temporal\" : {\"intervals\" : [\n",
        "          {\"start\" : \"2023-01-01T00:00:00Z\", \"end\" : \"2023-06-30T00:00:00Z\"}\n",
        "      ]}\n",
        "  }\n",
        "\n",
        "# Submit the query\n",
        "query_result = query.submit(query_json)\n",
        "\n",
        "# Convert the results to a dataframe\n",
        "point_df = query_result.point_data_as_dataframe()\n",
        "# Convert the timestamp to a human readable format\n",
        "point_df['datetime'] = pd.to_datetime(point_df['timestamp'] * 1e6, errors = 'coerce')\n",
        "point_df"
      ]
    },
    {
      "cell_type": "markdown",
      "metadata": {
        "id": "9_XQPGrcI8Uh"
      },
      "source": [
        "The above query requests NDVI values from Geospatial APIs layer 49464, the *High res imagery (ESA Sentinel 2)* dataset, for a location somewhere in Southampton, UK -- the coordinates 50.92/-1.48 (latitude/longitude).\n",
        "\n",
        "Geospatial APIs returns about 70 rows of data, which are now stored in the ``point_df`` dataframe.\n",
        "\n",
        "<div class=\"alert alert-info\">\n",
        "Point queries such as the above are unique in that they instantly return a response. This makes them particularly suited to testing as well as exploration and experimentation. If unsure about the data you are interested in- its spatial coverage frequency, or temporal extent- start with a point query. Having said that, note that some advanced features -- most notably user defined functions are not available for point queries.\n",
        "</div>\n",
        "\n",
        "<div class=\"alert alert-info\">\n",
        "Time intervals such as:\n",
        "\n",
        "```python\n",
        "{\"start\" : \"2023-01-01T00:00:00Z\", \"end\" : \"2023-06-30T00:00:00Z\"}\n",
        "```\n",
        "\n",
        "are defined as follows: The start time is included, the end time is included. In other words, the interval is open at the beginning and open at the end: ``2023-01-01T00:00:00Z <= t <= 2023-06-30T00:00:00Z``.\n",
        "</div>\n",
        "\n",
        "\n",
        "## Understanding the example\n",
        "We start with various import statements:\n",
        "```python\n",
        "import os                                        # used to read environment variables\n",
        "import ibmpairs.authentication as authentication # deals with Geospatial APIs authentication\n",
        "import ibmpairs.client as client                 # represents an authenticated HTTP client\n",
        "import ibmpairs.query as query                   # manages the submission of queries and retrieval of results\n",
        "```\n",
        "After the imports we create a client object and use an API_KEY, TENANT_ID (or CLIENT_ID) and an ORG_ID to create an authenticated HTTP client.\n",
        "```python\n",
        "ei_client = client.get_client(api_key   = EI_API_KEY,\n",
        "                              tenant_id = EI_TENANT_ID,\n",
        "                              org_id    = EI_ORG_ID)\n",
        "```\n",
        "This is a required step before you start doing queries but you only need to do it once.\n",
        "\n",
        "The most interesting part of the above example is the definition of the actual query JSON that we send to Geospatial APIs.\n",
        "```python\n",
        "query_json = {\n",
        "    # What - the data layer\n",
        "    \"layers\" : [      \n",
        "      {\"type\" : \"raster\", \"id\" : \"49464\"}\n",
        "    ],\n",
        "    # Where - the spatial location\n",
        "    \"spatial\" : {\"type\" : \"point\",\n",
        "                 \"coordinates\" : [\"50.92163290389907\", \"-1.4837586747526244\"]},\n",
        "    # When - the temporal range\n",
        "    \"temporal\" : {\"intervals\" : [\n",
        "      {\"start\" : \"2023-01-01T00:00:00Z\", \"end\" : \"2023-06-30T00:00:00Z\"}\n",
        "    ]}\n",
        "  }\n",
        "```\n",
        "In general, the ``query_json`` object answers the following questions:\n",
        "\n",
        "What?\n",
        "\n",
        "What we are requesting is specified by the value associated to ``layers``. Here, we are requesting a single raster layer with ID 49464. This is the *NDVI* layer in the *High res imagery (ESA Sentinel 2)* dataset.\n",
        "\n",
        "Where?\n",
        "\n",
        "Next we define the ``spatial`` coverage of the query with the spatial key. In the above, we only request data for a single point in the format ``[latitude, longitude]``.\n",
        "\n",
        "> **_NOTE:_** longitudes in Geospatial APIs range from -180 to +180 degrees. Using values larger than +180 will lead to error messages. Similarly, latitudes range of course from -90 to +90 degrees.\n",
        "\n",
        "When?\n",
        "\n",
        "Finally, we define a single time range via the ``temporal`` field.\n",
        "\n",
        "Subsequently we submit the query to Geospatial APIs. As this is a point query, the result is returned directly from the submit method call:\n",
        "\n",
        "```python\n",
        "query_result = query.submit(query_json)\n",
        "```\n",
        "\n",
        "Note that we don't explicitly need to tell the query object to use the authenticated client we created previously as it finds it automatically.\n",
        "\n",
        "Geospatial APIs returns the result of a point query as JSON data. We use a helper method to turn this data into a local data frame:\n",
        "\n",
        "```python\n",
        "point_df = query_result.point_data_as_dataframe()\n",
        "```\n",
        "From this point on all the data is in a local data frame and we can operate on it as we would any other data frame."
      ]
    },
    {
      "cell_type": "markdown",
      "metadata": {
        "id": "gLdoxOcKI8Ul"
      },
      "source": [
        "## A not so minimal working example\n",
        "\n",
        "The largest part of this documentation will be concerned with extensions to the ``query_json`` object. Once again let's just jump into a working example:\n",
        "\n",
        "<div class=\"alert alert-info\">\n",
        "The layer IDs used here can be found using the catalogue sub-module.\n",
        "</div>\n"
      ]
    },
    {
      "cell_type": "code",
      "execution_count": null,
      "metadata": {
        "id": "zUSak3C5I8Um",
        "outputId": "551dd2b0-d1b1-4f4d-90ff-e7cb1f7a51c9"
      },
      "outputs": [
        {
          "name": "stdout",
          "output_type": "stream",
          "text": [
            "2023-08-15 09:11:58 - paw - INFO - TASK: submit STARTING.\n",
            "2023-08-15 09:13:53 - paw - INFO - TASK: submit COMPLETED.\n"
          ]
        },
        {
          "data": {
            "text/html": [
              "<div>\n",
              "<style scoped>\n",
              "    .dataframe tbody tr th:only-of-type {\n",
              "        vertical-align: middle;\n",
              "    }\n",
              "\n",
              "    .dataframe tbody tr th {\n",
              "        vertical-align: top;\n",
              "    }\n",
              "\n",
              "    .dataframe thead th {\n",
              "        text-align: right;\n",
              "    }\n",
              "</style>\n",
              "<table border=\"1\" class=\"dataframe\">\n",
              "  <thead>\n",
              "    <tr style=\"text-align: right;\">\n",
              "      <th></th>\n",
              "      <th>layer_id</th>\n",
              "      <th>layer_name</th>\n",
              "      <th>dataset</th>\n",
              "      <th>longitude</th>\n",
              "      <th>latitude</th>\n",
              "      <th>value</th>\n",
              "      <th>aggregation</th>\n",
              "      <th>alias</th>\n",
              "    </tr>\n",
              "  </thead>\n",
              "  <tbody>\n",
              "    <tr>\n",
              "      <th>0</th>\n",
              "      <td>49464</td>\n",
              "      <td>Normalized difference vegetation index</td>\n",
              "      <td>High res  imagery (ESA Sentinel 2)</td>\n",
              "      <td>-122.4194</td>\n",
              "      <td>37.7749</td>\n",
              "      <td>0.08440000000000003</td>\n",
              "      <td>Max</td>\n",
              "      <td>49464.1672531200000&gt;1688083200000</td>\n",
              "    </tr>\n",
              "    <tr>\n",
              "      <th>1</th>\n",
              "      <td>91</td>\n",
              "      <td>Daily precipitation</td>\n",
              "      <td>Daily US weather (PRISM)</td>\n",
              "      <td>-122.4194</td>\n",
              "      <td>37.7749</td>\n",
              "      <td>4.467446735076344</td>\n",
              "      <td>Mean</td>\n",
              "      <td>91.1669852800000&gt;1688083200000</td>\n",
              "    </tr>\n",
              "    <tr>\n",
              "      <th>2</th>\n",
              "      <td>91</td>\n",
              "      <td>Daily precipitation</td>\n",
              "      <td>Daily US weather (PRISM)</td>\n",
              "      <td>-74.0060</td>\n",
              "      <td>40.7128</td>\n",
              "      <td>3.035630824596353</td>\n",
              "      <td>Mean</td>\n",
              "      <td>91.1669852800000&gt;1688083200000</td>\n",
              "    </tr>\n",
              "  </tbody>\n",
              "</table>\n",
              "</div>"
            ],
            "text/plain": [
              "   layer_id                              layer_name  \\\n",
              "0     49464  Normalized difference vegetation index   \n",
              "1        91                     Daily precipitation   \n",
              "2        91                     Daily precipitation   \n",
              "\n",
              "                              dataset  longitude  latitude  \\\n",
              "0  High res  imagery (ESA Sentinel 2)  -122.4194   37.7749   \n",
              "1            Daily US weather (PRISM)  -122.4194   37.7749   \n",
              "2            Daily US weather (PRISM)   -74.0060   40.7128   \n",
              "\n",
              "                 value aggregation                              alias  \n",
              "0  0.08440000000000003         Max  49464.1672531200000>1688083200000  \n",
              "1    4.467446735076344        Mean     91.1669852800000>1688083200000  \n",
              "2    3.035630824596353        Mean     91.1669852800000>1688083200000  "
            ]
          },
          "execution_count": 2,
          "metadata": {},
          "output_type": "execute_result"
        }
      ],
      "source": [
        "query_json = {\n",
        "    \"layers\" : [\n",
        "        {\n",
        "            \"type\" : \"raster\", \"id\" : \"91\",\n",
        "            \"temporal\" : {\"intervals\" : [\n",
        "                {\"start\" : \"2022-12-01T00:00:00Z\", \"end\" : \"2023-06-30T00:00:00Z\"}\n",
        "            ]},\n",
        "            \"aggregation\" : \"Mean\"\n",
        "        },\n",
        "        {\n",
        "            \"type\" : \"raster\", \"id\" : \"49464\",\n",
        "            \"temporal\" : {\"intervals\" : [\n",
        "                {\"start\" : \"2023-01-01T00:00:00Z\", \"end\" : \"2023-06-30T00:00:00Z\"}\n",
        "            ]},\n",
        "            \"aggregation\" : \"Max\"\n",
        "        }\n",
        "    ],\n",
        "    \"spatial\" : {\"type\" : \"point\",  \"coordinates\" : [\"40.7128\", \"-74.006\",\n",
        "                                                     \"37.7749\", \"-122.4194\"]},\n",
        "    \"temporal\" : {\"intervals\" : [\n",
        "        {\"start\" : \"2023-01-01T00:00:00Z\", \"end\" : \"2023-06-30T00:00:00Z\"}\n",
        "    ]}\n",
        "  }\n",
        "\n",
        "query_result = query.submit(query_json)\n",
        "\n",
        "point_df = query_result.point_data_as_dataframe()\n",
        "\n",
        "point_df"
      ]
    },
    {
      "cell_type": "markdown",
      "metadata": {
        "id": "JyanVoU5I8Un"
      },
      "source": [
        "There is quite a lot going on in the above example. To begin, we are requesting data from two different layers:\n",
        "\n",
        "91 - Daily precipitation from the *Daily US weather (PRISM)* dataset\n",
        "```python\n",
        "        {\n",
        "            \"type\" : \"raster\", \"id\" : \"91\",\n",
        "            \"temporal\" : {\"intervals\" : [\n",
        "                {\"start\" : \"2022-12-01T00:00:00Z\", \"end\" : \"2023-06-30T00:00:00Z\"}\n",
        "            ]},\n",
        "            \"aggregation\" : \"Mean\"\n",
        "        }\n",
        "```\n",
        "49464 - NDVI from the *ESA Sentinel 2 l2a* dataset\n",
        "```python\n",
        "        {\n",
        "            \"type\" : \"raster\", \"id\" : \"49464\",\n",
        "            \"temporal\" : {\"intervals\" : [\n",
        "                {\"start\" : \"2023-01-01T00:00:00Z\", \"end\" : \"2023-06-30T00:00:00Z\"}\n",
        "            ]},\n",
        "            \"aggregation\" : \"Max\"\n",
        "        },\n",
        "```\n",
        "For each of these we use a different temporal range and we are aggregating the first two over their respective time ranges. ``Mean`` in the case of 91 and ``Max`` in the case of 49464. A layer can appear multiple times, for example, once with ``Mean`` aggregation, once with ``Sum`` aggregation and once without and the results will reflect the three different requests. The possible aggregation functions for temporal aggregations supported at this stage are ``Mean``, ``Max``, ``Min`` and ``Sum``.\n",
        "\n",
        "The ``spatial`` specification describes two points using an array:\n",
        "```python\n",
        "    \"spatial\" : {\"type\" : \"point\",  \"coordinates\" : [\"40.7128\", \"-74.006\", \"37.7749\", \"-122.4194\"]},\n",
        "```\n",
        "The format is ``[lat-point-1, long-point1, lat-point2, long-point2]``. You will see in the results that data is returned for each layer, for each timestamp (or once for an aggregation) and for each point.\n",
        "\n",
        "<div class=\"alert alert-info\">\n",
        "The ``temporal`` section appearing at the end the above query -- outside the ``layers`` block -- gives a *default* time range that is used if a an element of the ``layers`` block comes without a time range. In the above example it is redundant. However, the current implementation requires its presence even if the information is not used.\n",
        "<div>\n",
        "    \n"
      ]
    }
  ],
  "metadata": {
    "kernelspec": {
      "display_name": "Python 3 (ipykernel)",
      "language": "python",
      "name": "python3"
    },
    "language_info": {
      "codemirror_mode": {
        "name": "ipython",
        "version": 3
      },
      "file_extension": ".py",
      "mimetype": "text/x-python",
      "name": "python",
      "nbconvert_exporter": "python",
      "pygments_lexer": "ipython3",
      "version": "3.11.0"
    },
    "colab": {
      "provenance": [],
      "include_colab_link": true
    }
  },
  "nbformat": 4,
  "nbformat_minor": 0
}